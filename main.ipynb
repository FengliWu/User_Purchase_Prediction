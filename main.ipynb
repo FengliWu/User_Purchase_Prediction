{
 "cells": [
  {
   "cell_type": "markdown",
   "id": "15b39ff0",
   "metadata": {},
   "source": [
    "## 数据探索"
   ]
  },
  {
   "cell_type": "code",
   "execution_count": 2,
   "id": "5282a348",
   "metadata": {},
   "outputs": [],
   "source": [
    "import re\n",
    "import numpy as np\n",
    "import pandas as pd\n",
    "import matplotlib.pyplot as plt\n",
    "import seaborn as sns\n",
    "\n",
    "import warnings\n",
    "warnings.filterwarnings('ignore')\n",
    "\n",
    "%matplotlib inline\n"
   ]
  },
  {
   "cell_type": "code",
   "execution_count": 3,
   "id": "8cc49239",
   "metadata": {},
   "outputs": [
    {
     "data": {
      "text/html": [
       "<div>\n",
       "<style scoped>\n",
       "    .dataframe tbody tr th:only-of-type {\n",
       "        vertical-align: middle;\n",
       "    }\n",
       "\n",
       "    .dataframe tbody tr th {\n",
       "        vertical-align: top;\n",
       "    }\n",
       "\n",
       "    .dataframe thead th {\n",
       "        text-align: right;\n",
       "    }\n",
       "</style>\n",
       "<table border=\"1\" class=\"dataframe\">\n",
       "  <thead>\n",
       "    <tr style=\"text-align: right;\">\n",
       "      <th></th>\n",
       "      <th>uid</th>\n",
       "      <th>label</th>\n",
       "      <th>gender</th>\n",
       "      <th>age</th>\n",
       "      <th>tags</th>\n",
       "      <th>time</th>\n",
       "      <th>province</th>\n",
       "      <th>city</th>\n",
       "      <th>phone</th>\n",
       "      <th>model</th>\n",
       "    </tr>\n",
       "  </thead>\n",
       "  <tbody>\n",
       "    <tr>\n",
       "      <th>0</th>\n",
       "      <td>1190258</td>\n",
       "      <td>1</td>\n",
       "      <td>NaN</td>\n",
       "      <td>4.0</td>\n",
       "      <td>[10147894,12164649,5737867,12614444,10567578,1...</td>\n",
       "      <td>[1.559305645165E12,1.589771859076E12,1.5593056...</td>\n",
       "      <td>广东</td>\n",
       "      <td>汕尾</td>\n",
       "      <td>OPPO</td>\n",
       "      <td>k1</td>\n",
       "    </tr>\n",
       "    <tr>\n",
       "      <th>1</th>\n",
       "      <td>1119469</td>\n",
       "      <td>0</td>\n",
       "      <td>NaN</td>\n",
       "      <td>NaN</td>\n",
       "      <td>[12545416,13096510,12941454,10882324,13056107,...</td>\n",
       "      <td>[1.602720969208E12,1.602720969208E12,1.6027209...</td>\n",
       "      <td>吉林</td>\n",
       "      <td>辽源</td>\n",
       "      <td>OPPO</td>\n",
       "      <td>r9s</td>\n",
       "    </tr>\n",
       "    <tr>\n",
       "      <th>2</th>\n",
       "      <td>1198468</td>\n",
       "      <td>1</td>\n",
       "      <td>NaN</td>\n",
       "      <td>4.0</td>\n",
       "      <td>[9952871,10977296,12546375,12514349,9446069,10...</td>\n",
       "      <td>[1.583400582853E12,1.599880343178E12,1.5592561...</td>\n",
       "      <td>河北</td>\n",
       "      <td>廊坊</td>\n",
       "      <td>OPPO</td>\n",
       "      <td>r9</td>\n",
       "    </tr>\n",
       "    <tr>\n",
       "      <th>3</th>\n",
       "      <td>1134962</td>\n",
       "      <td>0</td>\n",
       "      <td>NaN</td>\n",
       "      <td>2.0</td>\n",
       "      <td>[10308451,4457057,12164649,13669217,12874521,1...</td>\n",
       "      <td>[1.602050840433E12,1.559294082566E12,1.5743256...</td>\n",
       "      <td>海南</td>\n",
       "      <td>海口</td>\n",
       "      <td>OPPO</td>\n",
       "      <td>OPPO r11s</td>\n",
       "    </tr>\n",
       "    <tr>\n",
       "      <th>4</th>\n",
       "      <td>1202094</td>\n",
       "      <td>1</td>\n",
       "      <td>0.0</td>\n",
       "      <td>NaN</td>\n",
       "      <td>[4457927,9334567,11219658,13647044,9460596,109...</td>\n",
       "      <td>[1.562217310326E12,1.569115329888E12,1.5622173...</td>\n",
       "      <td>贵州</td>\n",
       "      <td>贵阳</td>\n",
       "      <td>华为</td>\n",
       "      <td>麦芒5</td>\n",
       "    </tr>\n",
       "  </tbody>\n",
       "</table>\n",
       "</div>"
      ],
      "text/plain": [
       "       uid  label  gender  age  \\\n",
       "0  1190258      1     NaN  4.0   \n",
       "1  1119469      0     NaN  NaN   \n",
       "2  1198468      1     NaN  4.0   \n",
       "3  1134962      0     NaN  2.0   \n",
       "4  1202094      1     0.0  NaN   \n",
       "\n",
       "                                                tags  \\\n",
       "0  [10147894,12164649,5737867,12614444,10567578,1...   \n",
       "1  [12545416,13096510,12941454,10882324,13056107,...   \n",
       "2  [9952871,10977296,12546375,12514349,9446069,10...   \n",
       "3  [10308451,4457057,12164649,13669217,12874521,1...   \n",
       "4  [4457927,9334567,11219658,13647044,9460596,109...   \n",
       "\n",
       "                                                time province city phone  \\\n",
       "0  [1.559305645165E12,1.589771859076E12,1.5593056...       广东   汕尾  OPPO   \n",
       "1  [1.602720969208E12,1.602720969208E12,1.6027209...       吉林   辽源  OPPO   \n",
       "2  [1.583400582853E12,1.599880343178E12,1.5592561...       河北   廊坊  OPPO   \n",
       "3  [1.602050840433E12,1.559294082566E12,1.5743256...       海南   海口  OPPO   \n",
       "4  [1.562217310326E12,1.569115329888E12,1.5622173...       贵州   贵阳    华为   \n",
       "\n",
       "       model  \n",
       "0         k1  \n",
       "1        r9s  \n",
       "2         r9  \n",
       "3  OPPO r11s  \n",
       "4        麦芒5  "
      ]
     },
     "execution_count": 3,
     "metadata": {},
     "output_type": "execute_result"
    }
   ],
   "source": [
    "train_data = pd.read_csv('D:\\\\train.csv')\n",
    "test_data = pd.read_csv('D:\\\\test.csv')\n",
    "\n",
    "#sns.set_style('whitegrid')\n",
    "train_data.head()"
   ]
  },
  {
   "cell_type": "code",
   "execution_count": 7,
   "id": "7bff24ff",
   "metadata": {},
   "outputs": [
    {
     "name": "stdout",
     "output_type": "stream",
     "text": [
      "<class 'pandas.core.frame.DataFrame'>\n",
      "RangeIndex: 200000 entries, 0 to 199999\n",
      "Data columns (total 10 columns):\n",
      " #   Column    Non-Null Count   Dtype  \n",
      "---  ------    --------------   -----  \n",
      " 0   uid       200000 non-null  int64  \n",
      " 1   label     200000 non-null  int64  \n",
      " 2   gender    38350 non-null   float64\n",
      " 3   age       174262 non-null  float64\n",
      " 4   tags      200000 non-null  object \n",
      " 5   time      200000 non-null  object \n",
      " 6   province  200000 non-null  object \n",
      " 7   city      200000 non-null  object \n",
      " 8   phone     200000 non-null  object \n",
      " 9   model     200000 non-null  object \n",
      "dtypes: float64(2), int64(2), object(6)\n",
      "memory usage: 15.3+ MB\n",
      "----------------------------------------\n",
      "<class 'pandas.core.frame.DataFrame'>\n",
      "RangeIndex: 100000 entries, 0 to 99999\n",
      "Data columns (total 9 columns):\n",
      " #   Column    Non-Null Count   Dtype  \n",
      "---  ------    --------------   -----  \n",
      " 0   uid       100000 non-null  int64  \n",
      " 1   gender    19288 non-null   float64\n",
      " 2   age       87107 non-null   float64\n",
      " 3   tags      100000 non-null  object \n",
      " 4   time      100000 non-null  object \n",
      " 5   province  100000 non-null  object \n",
      " 6   city      100000 non-null  object \n",
      " 7   phone     100000 non-null  object \n",
      " 8   model     100000 non-null  object \n",
      "dtypes: float64(2), int64(1), object(6)\n",
      "memory usage: 6.9+ MB\n"
     ]
    }
   ],
   "source": [
    "train_data.info()\n",
    "print(\"-\" * 40)\n",
    "test_data.info()"
   ]
  },
  {
   "cell_type": "code",
   "execution_count": 8,
   "id": "db7c30ef",
   "metadata": {},
   "outputs": [
    {
     "data": {
      "text/html": [
       "<div>\n",
       "<style scoped>\n",
       "    .dataframe tbody tr th:only-of-type {\n",
       "        vertical-align: middle;\n",
       "    }\n",
       "\n",
       "    .dataframe tbody tr th {\n",
       "        vertical-align: top;\n",
       "    }\n",
       "\n",
       "    .dataframe thead th {\n",
       "        text-align: right;\n",
       "    }\n",
       "</style>\n",
       "<table border=\"1\" class=\"dataframe\">\n",
       "  <thead>\n",
       "    <tr style=\"text-align: right;\">\n",
       "      <th></th>\n",
       "      <th>uid</th>\n",
       "      <th>label</th>\n",
       "      <th>gender</th>\n",
       "      <th>age</th>\n",
       "    </tr>\n",
       "  </thead>\n",
       "  <tbody>\n",
       "    <tr>\n",
       "      <th>count</th>\n",
       "      <td>2.000000e+05</td>\n",
       "      <td>200000.00000</td>\n",
       "      <td>38350.000000</td>\n",
       "      <td>174262.000000</td>\n",
       "    </tr>\n",
       "    <tr>\n",
       "      <th>mean</th>\n",
       "      <td>1.149953e+06</td>\n",
       "      <td>0.49912</td>\n",
       "      <td>0.403468</td>\n",
       "      <td>3.320867</td>\n",
       "    </tr>\n",
       "    <tr>\n",
       "      <th>std</th>\n",
       "      <td>8.668073e+04</td>\n",
       "      <td>0.50000</td>\n",
       "      <td>0.490599</td>\n",
       "      <td>1.466731</td>\n",
       "    </tr>\n",
       "    <tr>\n",
       "      <th>min</th>\n",
       "      <td>1.000002e+06</td>\n",
       "      <td>0.00000</td>\n",
       "      <td>0.000000</td>\n",
       "      <td>1.000000</td>\n",
       "    </tr>\n",
       "    <tr>\n",
       "      <th>25%</th>\n",
       "      <td>1.074948e+06</td>\n",
       "      <td>0.00000</td>\n",
       "      <td>0.000000</td>\n",
       "      <td>2.000000</td>\n",
       "    </tr>\n",
       "    <tr>\n",
       "      <th>50%</th>\n",
       "      <td>1.149758e+06</td>\n",
       "      <td>0.00000</td>\n",
       "      <td>0.000000</td>\n",
       "      <td>3.000000</td>\n",
       "    </tr>\n",
       "    <tr>\n",
       "      <th>75%</th>\n",
       "      <td>1.225105e+06</td>\n",
       "      <td>1.00000</td>\n",
       "      <td>1.000000</td>\n",
       "      <td>4.000000</td>\n",
       "    </tr>\n",
       "    <tr>\n",
       "      <th>max</th>\n",
       "      <td>1.300000e+06</td>\n",
       "      <td>1.00000</td>\n",
       "      <td>1.000000</td>\n",
       "      <td>6.000000</td>\n",
       "    </tr>\n",
       "  </tbody>\n",
       "</table>\n",
       "</div>"
      ],
      "text/plain": [
       "                uid         label        gender            age\n",
       "count  2.000000e+05  200000.00000  38350.000000  174262.000000\n",
       "mean   1.149953e+06       0.49912      0.403468       3.320867\n",
       "std    8.668073e+04       0.50000      0.490599       1.466731\n",
       "min    1.000002e+06       0.00000      0.000000       1.000000\n",
       "25%    1.074948e+06       0.00000      0.000000       2.000000\n",
       "50%    1.149758e+06       0.00000      0.000000       3.000000\n",
       "75%    1.225105e+06       1.00000      1.000000       4.000000\n",
       "max    1.300000e+06       1.00000      1.000000       6.000000"
      ]
     },
     "execution_count": 8,
     "metadata": {},
     "output_type": "execute_result"
    }
   ],
   "source": [
    "train_data.describe()"
   ]
  },
  {
   "cell_type": "markdown",
   "id": "c3202774",
   "metadata": {},
   "source": [
    "## 手机价格爬虫"
   ]
  },
  {
   "cell_type": "code",
   "execution_count": null,
   "id": "8e6a2ff7",
   "metadata": {},
   "outputs": [],
   "source": [
    "from bs4 import BeautifulSoup\n",
    "from urllib.request import Request,urlopen\n",
    "from urllib.parse import quote\n",
    "import string\n",
    "import openpyxl\n",
    "import pandas as pd\n",
    "import numpy as np\n",
    "import csv\n",
    "import re\n",
    "import matplotlib.pyplot as plt\n",
    "import seaborn as sns\n",
    "\n",
    "def read_model():\n",
    "    data = pd.read_csv(\"E:\\\\学校资料\\\\数据挖掘竞赛\\\\test.csv\")\n",
    "    phone_data = data.drop(['uid', 'gender', 'age', 'tags', 'time', 'province', 'city'], axis=1)\n",
    "    phone_data['type'] = phone_data['phone']+' '+phone_data['model']\n",
    "    phone_data.drop(['phone', 'model'], axis=1, inplace=True)\n",
    "    phone_data = np.array(phone_data)\n",
    "    model_list = phone_data.tolist()\n",
    "    for i in range(0, len(model_list)):\n",
    "        model_list[i] = str(model_list[i][0])\n",
    "    model_list = list(set(model_list))\n",
    "    return model_list\n",
    "\n",
    "\n",
    "def handle_url(keyword):\n",
    "    search_url_head = 'http://detail.zol.com.cn/index.php?c=SearchList&subcateId=57&kword='\n",
    "    search_url = search_url_head + keyword\n",
    "    search_url = quote(search_url, safe=string.printable)\n",
    "    return keyword, search_url\n",
    "\n",
    "\n",
    "def get_data(keyword, search_url):\n",
    "    requests = Request(search_url)\n",
    "    requests.add_header('Cookie',\n",
    "                        'ip_ck=786D4P70j7QuODkyNzQzLjE1MzIwODM0NjM%3D; BDTUJIAID=85297d8813f1d7e701c59249e59206bc; vjuids=-1a1fc1c9b.165371e6bf7.0.6b74674fd875b; vjlast=1534228065.1534228065.30; z_pro_city=s_provice%3Dbeijing%26s_city%3Dbeijing; userProvinceId=1; userCityId=587; userCountyId=0; userLocationId=1; gr_user_id=842674bf-45c3-43b3-8dcc-6dcb05367cb8; realLocationId=1; userFidLocationId=1; lv=1542700062; vn=6; questionnaire_close_today=1542672001; questionnaire_close_total=3; Hm_lvt_ae5edc2bc4fc71370807f6187f0a2dd0=1541474806,1542682304,1542700062,1542704285; z_day=izol102454%3D5%26izol103910%3D5%26izol103920%3D2%26izol103835%3D3%26ixgo20%3D1%26rdetail%3D9; gr_session_id_9b437fe8881a7e19=e15374bb-4626-43bf-9b95-2632a32ea2e6; gr_session_id_9b437fe8881a7e19_e15374bb-4626-43bf-9b95-2632a32ea2e6=true; listSubcateId=57; visited_subcateId=57|0; visited_subcateProId=57-0,1204795,1213467|0-0; visited_serachKw=oppo%20r17%7Cr17%20oppo%7Cr17; Adshow=0; questionnaire_pv=1542672086; Hm_lpvt_ae5edc2bc4fc71370807f6187f0a2dd0=1542704847')\n",
    "    response = urlopen(requests)\n",
    "    html = BeautifulSoup(response, 'html.parser', from_encoding='utf-8')\n",
    "    target1 = html.find('div', {'class': 'main'})\n",
    "    target2 = target1.find_all('div', {'class': 'list-item clearfix'})\n",
    "\n",
    "    info = []\n",
    "    if len(target2) != 0:\n",
    "        target3 = target2[0]\n",
    "        target4 = target3.find('div', {'class': 'pro-intro'})\n",
    "        title = target4.find('h3').get_text()\n",
    "        product_info = target4.find('ul').find('li', {'class': 'cate'})\n",
    "\n",
    "        if product_info is not None:\n",
    "            product_type = product_info.find_all('a')[0].get_text()\n",
    "        else:\n",
    "            product_type = '未知'\n",
    "\n",
    "        price = target3.find('div', {'class': 'price-box'}).find('b', {'class': 'price-type'}).get_text()\n",
    "        # print(price)\n",
    "        if price.isdigit() == False:\n",
    "            if price.endswith('万'):\n",
    "                price = float(re.findall(r'\\d+\\.?\\d*', price)[0])\n",
    "                price = price * 10000\n",
    "            else:\n",
    "                price = -1  # 后续需要清洗掉\n",
    "\n",
    "        keyword = keyword.lstrip('[\\'').rstrip('\\']')\n",
    "        # print(keyword)\n",
    "        info.append(keyword)\n",
    "        # info.append(title)\n",
    "        # info.append(product_type)\n",
    "        info.append(price)\n",
    "        # info.append(product_info)\n",
    "        print(info)\n",
    "    return info\n",
    "\n",
    "def price():\n",
    "    data = pd.read_csv(\"E:\\\\学校资料\\\\数据挖掘竞赛\\\\test.csv\")\n",
    "    price = pd.read_csv(\"price_test.csv\", encoding='gbk')\n",
    "    price_dic = dict(zip(price['model'], price['price']))\n",
    "    # print(price_dic)\n",
    "    list1 = []\n",
    "    list2 = []\n",
    "    label = []\n",
    "    error = 0\n",
    "    level1 = 0\n",
    "    level2 = 0\n",
    "    level3 = 0\n",
    "    level4 = 0\n",
    "    level5 = 0\n",
    "    level6 = 0\n",
    "    for i in range(0, data.shape[0]):\n",
    "        list1.append(str(data.iloc[i, 7]) + str(data.iloc[i, 8]).strip().replace(' ', ''))\n",
    "    for i in range(0, data.shape[0]):\n",
    "        count = 0\n",
    "        for j in price_dic.keys():\n",
    "            count+=1\n",
    "            if list1[i] == j:\n",
    "                list2.append(price_dic[j])\n",
    "                # if int(price_dic[j])<800:\n",
    "                #     error+=1\n",
    "                #     level1+=1\n",
    "                #     label.append('1')\n",
    "                if (int(price_dic[j])<800):\n",
    "                    level1+=1\n",
    "                    label.append('1')\n",
    "                elif (int(price_dic[j])>=800)&(int(price_dic[j])<2100):\n",
    "                    level2+=1\n",
    "                    label.append('2')\n",
    "                elif (int(price_dic[j])>=2100)&(int(price_dic[j])<2300):\n",
    "                    level3+=1\n",
    "                    label.append('3')\n",
    "                elif (int(price_dic[j])>=2300)&(int(price_dic[j])<2500):\n",
    "                    level4+=1\n",
    "                    label.append('4')\n",
    "                elif (int(price_dic[j])>=2500)&(int(price_dic[j])<3000):\n",
    "                    level5+=1\n",
    "                    label.append('5')\n",
    "                else:\n",
    "                    level6+=1\n",
    "                    label.append('6')\n",
    "                    break\n",
    "        if len(list2)!=(i+1):\n",
    "            list2.append('-1')\n",
    "            label.append('1')\n",
    "            error+=1\n",
    "    data['price'] = list2\n",
    "    data['price label'] = label\n",
    "    # print(list2)\n",
    "    data.to_csv(\"Phone price_test_binning.csv\", header=True)\n",
    "    # print('价格错误条数:' + str(error))\n",
    "    print('低端机用户数:' + str(level1))\n",
    "    print('中低端机用户数:' + str(level2))\n",
    "    print('中端机用户数:' + str(level3))\n",
    "    print('中高端机用户数:' + str(level4))\n",
    "    print('高端机用户数:' + str(level5))\n",
    "    print('高端机用户数:' + str(level6))\n",
    "\n",
    "def price_count():\n",
    "    price = pd.read_csv(\"Phone price.csv\")\n",
    "    buy = price.price[price.label == 1].value_counts()\n",
    "    unbuy = price.price[price.label == 0].value_counts()\n",
    "    df = pd.DataFrame({'buy':buy, 'unbuy':unbuy})\n",
    "    plt.figure()\n",
    "    p = buy/(buy+unbuy)\n",
    "    plt.plot(p)\n",
    "    plt.show()\n",
    "\n",
    "def visualization():\n",
    "    price = pd.read_csv(\"Phone price.csv\")\n",
    "    sns.set(style='darkgrid')\n",
    "    sns.despine()\n",
    "    sns.countplot(x='price label', hue='label', data=price, palette='Set2')\n",
    "    group_labels = ['low', 'mid-low', 'mid', 'mid-high', 'high']\n",
    "    plt.xticks(range(5), group_labels, rotation=30)\n",
    "    plt.legend(labels=['buy', 'unbuy'])\n",
    "    plt.show()\n",
    "\n",
    "def save_as_csv():\n",
    "    title = ['model', 'price']\n",
    "    with open('price_test.csv', 'a', newline='') as f:\n",
    "        writer = csv.writer(f)\n",
    "        writer.writerow(title)\n",
    "    for i in range(0, len(model_list)):\n",
    "        keyword = str(model_list[i]).strip().replace(' ', '')  # 4G Phone前后报错,空格影响，变成4GPhone ok，类似解决方案：去掉机型中间的空格\n",
    "        # print(type(keyword))\n",
    "        keyword, search_url = handle_url(keyword)\n",
    "        try:\n",
    "            info = get_data(keyword, search_url)\n",
    "            with open('price_test.csv', 'a', newline='') as f:\n",
    "                if len(info) > 0:\n",
    "                    writer = csv.writer(f)\n",
    "                    writer.writerow(info)\n",
    "\n",
    "        except OSError:  # 跳过异常\n",
    "            pass\n",
    "        continue\n",
    "    print(info)\n",
    "\n",
    "def p_tag():\n",
    "    # df = pd.read_csv(\"train_city1.csv\", encoding='gbk')\n",
    "    #\n",
    "    # # df = df.dropna()\n",
    "    # df.info()\n",
    "    # df['tags'] = df['tags'].astype('object')\n",
    "    # df['time'] = df['time'].astype('object')\n",
    "    #\n",
    "    # for row in range(0, df.shape[0]):\n",
    "    #     tag_list = df.iloc[row, 4].split(\"[\")[1].split(\"]\")[0].split(\",\")\n",
    "    #     time_list = df.iloc[row, 5].split(\"[\")[1].split(\"]\")[0].split(\",\")\n",
    "    #     if len(tag_list) >= 5:\n",
    "    #         tag_time = []\n",
    "    #         tag_new = []\n",
    "    #         time_new = []\n",
    "    #         # 二维数组用来筛选最近5个\n",
    "    #         for i in range(len(tag_list)):\n",
    "    #             tag_time.append([tag_list[i], time_list[i]])\n",
    "    #         tag_time.sort(key=(lambda x: x[1]), reverse=True)  # 按照第二个元素（时间）排序\n",
    "    #         print(tag_time)\n",
    "    #         for k in range(5):\n",
    "    #             tag_new.append(tag_time[k][0])\n",
    "    #             time_new.append(tag_time[k][1])  # 重新分装回列表\n",
    "    #         # print(tag_new)\n",
    "    #         df.at[row, 'tags'] = tag_new\n",
    "    #         df.at[row, 'time'] = time_new  # 重新装回dataframe\n",
    "    print(df)\n",
    "    # p_tag = []\n",
    "    # for each in total_tag_unq:\n",
    "    #     one_count = 0            #计算概率\n",
    "    #     count = label_tag_list.count([0, each]) + label_tag_list.count([1, each])\n",
    "    #     # count = label_tag_df['tag'].value_counts()[each]\n",
    "    #     for k in label_tag_list:\n",
    "    #         if k[1] == each:\n",
    "    #             one_count + int(k[0])\n",
    "    #     p_one = one_count / count\n",
    "    #     p_tag_temp = [each, p_one]\n",
    "    #     print(p_tag_temp)\n",
    "    #     p_tag.append(p_tag_temp)\n",
    "\n",
    "def prediction():\n",
    "    df1 = pd.read_csv('phone price.csv', usecols=['uid', 'price label'])\n",
    "    df2 = pd.read_csv('train_city1.csv', usecols=['uid', 'city_level', 'label'], encoding='gbk')\n",
    "    data = pd.merge(df1, df2, on='uid')\n",
    "\n",
    "\n",
    "if __name__ == '__main__':\n",
    "    # model_list = read_model()\n",
    "    # save_as_csv()\n",
    "    # print(model_list)\n",
    "    price()\n",
    "    # price_count()\n",
    "    # visualization()\n",
    "    # p_tag()\n",
    "    # prediction()"
   ]
  },
  {
   "cell_type": "markdown",
   "id": "9e549338",
   "metadata": {},
   "source": [
    "## 可视化分析"
   ]
  },
  {
   "cell_type": "code",
   "execution_count": 7,
   "id": "a46ae3ae",
   "metadata": {},
   "outputs": [
    {
     "name": "stdout",
     "output_type": "stream",
     "text": [
      "read success\n"
     ]
    }
   ],
   "source": [
    "df = pd.read_csv(\"D:\\\\train模型.csv\")\n",
    "df.info()\n",
    "print('read success')"
   ]
  },
  {
   "cell_type": "code",
   "execution_count": 26,
   "id": "5fa76d98",
   "metadata": {},
   "outputs": [
    {
     "data": {
      "image/png": "[encoded data removed]",
      "text/plain": [
       "<Figure size 432x288 with 1 Axes>"
      ]
     },
     "metadata": {},
     "output_type": "display_data"
    }
   ],
   "source": [
    "# 分类特征gender\n",
    "labels=['null','not null']\n",
    "y_data=[df['gender'].isnull().sum(),df['gender'].count()]\n",
    "plt.pie(y_data,labels=labels,autopct='%1.1f%%')\n",
    "plt.title(\"gender\")\n",
    "plt.show()"
   ]
  },
  {
   "cell_type": "code",
   "execution_count": 10,
   "id": "87e1ef8d",
   "metadata": {},
   "outputs": [
    {
     "data": {
      "text/plain": [
       "<AxesSubplot:title={'center':'price'}>"
      ]
     },
     "execution_count": 10,
     "metadata": {},
     "output_type": "execute_result"
    },
    {
     "data": {
      "image/png": "[encoded data removed]",
      "text/plain": [
       "<Figure size 432x288 with 1 Axes>"
      ]
     },
     "metadata": {
      "needs_background": "light"
     },
     "output_type": "display_data"
    }
   ],
   "source": [
    "# 数值特征price\n",
    "buy1=df.price[df.label == 1].value_counts()\n",
    "unbuy1=df.price[df.label == 0].value_counts()\n",
    "bb=buy1/(buy1+unbuy1)\n",
    "bb.plot(kind='line',title='price')"
   ]
  },
  {
   "cell_type": "code",
   "execution_count": 11,
   "id": "adc859be",
   "metadata": {},
   "outputs": [
    {
     "data": {
      "text/plain": [
       "<AxesSubplot:title={'center':'age'}>"
      ]
     },
     "execution_count": 11,
     "metadata": {},
     "output_type": "execute_result"
    },
    {
     "data": {
      "image/png": "[encoded data removed]",
      "text/plain": [
       "<Figure size 432x288 with 1 Axes>"
      ]
     },
     "metadata": {
      "needs_background": "light"
     },
     "output_type": "display_data"
    }
   ],
   "source": [
    "# 有序分类特征age\n",
    "buy=df.age[df.label == 1].value_counts()\n",
    "nobuy=df.age[df.label == 0].value_counts()\n",
    "label_df=pd.DataFrame({'buy':buy,'nobuy':nobuy})\n",
    "label_df.plot(kind='bar',stacked=True,title='age')"
   ]
  },
  {
   "cell_type": "code",
   "execution_count": 12,
   "id": "eaad2416",
   "metadata": {},
   "outputs": [
    {
     "data": {
      "text/plain": [
       "<AxesSubplot:title={'center':'city_level'}>"
      ]
     },
     "execution_count": 12,
     "metadata": {},
     "output_type": "execute_result"
    },
    {
     "data": {
      "image/png": "[encoded data removed]",
      "text/plain": [
       "<Figure size 432x288 with 1 Axes>"
      ]
     },
     "metadata": {
      "needs_background": "light"
     },
     "output_type": "display_data"
    }
   ],
   "source": [
    "# 有序分类特征city_level\n",
    "buy=df.city_level[df.label == 1].value_counts()\n",
    "nobuy=df.city_level[df.label == 0].value_counts()\n",
    "label_df=pd.DataFrame({'buy':buy,'nobuy':nobuy})\n",
    "label_df.plot(kind='bar',stacked=True,title='city_level')\n"
   ]
  },
  {
   "cell_type": "markdown",
   "id": "326ec967",
   "metadata": {},
   "source": [
    "## 特征提取"
   ]
  },
  {
   "cell_type": "code",
   "execution_count": null,
   "id": "e860b06e",
   "metadata": {},
   "outputs": [],
   "source": [
    "# 利用tags特征提取新特征tag_p\n",
    "\n",
    "import numpy as np\n",
    "import csv\n",
    "import pandas as pd\n",
    "\n",
    "df = pd.read_csv(\"D:\\\\train模型.csv\", encoding='gbk')\n",
    "\n",
    "# df.info()\n",
    "df['tags'] = df['tags'].astype('object')\n",
    "df['time'] = df['time'].astype('object')\n",
    "\n",
    "for row in range(0, df.shape[0]):\n",
    "    tag_list = df.iloc[row, 4].split(\"[\")[1].split(\"]\")[0].split(\",\")\n",
    "    time_list = df.iloc[row, 5].split(\"[\")[1].split(\"]\")[0].split(\",\")\n",
    "    if len(tag_list) >= 10:\n",
    "        tag_time = []\n",
    "        tag_new = []\n",
    "        time_new = []\n",
    "        # 二维数组用来筛选最近10个\n",
    "        for i in range(len(tag_list)):\n",
    "            tag_time.append([tag_list[i], time_list[i]])\n",
    "        tag_time.sort(key=(lambda x: x[1]), reverse=True)  # 按照第二个元素（时间）排序\n",
    "        # print(tag_time)\n",
    "        for k in range(10):\n",
    "            tag_new.append(tag_time[k][0])\n",
    "            time_new.append(tag_time[k][1])  # 重新分装回列表\n",
    "        # print(tag_new)\n",
    "        df.at[row, 'tags'] = tag_new\n",
    "        df.at[row, 'time'] = time_new  # 重新装回dataframe\n",
    "print(df['tags'].head())"
   ]
  },
  {
   "cell_type": "code",
   "execution_count": null,
   "id": "472c697e",
   "metadata": {},
   "outputs": [],
   "source": [
    "import csv\n",
    "total_tag = []\n",
    "total_tag_unq = []\n",
    "\n",
    "label_tag_list = []\n",
    "\n",
    "for row in range(0, df.shape[0]):\n",
    "    tag_new = []\n",
    "    row_label = []  # 每行的label\n",
    "    tags = df.iloc[row, 4]\n",
    "\n",
    "    for i in range(len(tags)):\n",
    "        # print(tags[i])\n",
    "        label_tag_list.append([df.iloc[row, 1], tags[i]])  # 添加每一行的label+tag列表\n",
    "        # print(label_tag_list[-1])\n",
    "        total_tag.append(tags[i])  # tags列表\n",
    "    # print(row)\n",
    "\n",
    "total_tag_unq = list(set(total_tag))\n",
    "print(len(total_tag_unq))\n",
    "\n",
    "p_tag = []\n",
    "c = 0\n",
    "for each in total_tag_unq:\n",
    "    one_count = 0\n",
    "    count = 0\n",
    "    for i in label_tag_list:\n",
    "        if i[1]==each:\n",
    "            one_count = one_count + int(i[0])\n",
    "            count+=1\n",
    "    p_one = one_count/count\n",
    "    p_tag_temp = [each, one_count, count]\n",
    "    with open('p.csv', 'a', newline='') as f:  # 将得到的tag概率存入p.csv中\n",
    "        writer = csv.writer(f)\n",
    "        writer.writerow(p_tag_temp)\n",
    "    c+=1\n",
    "    print(c)"
   ]
  },
  {
   "cell_type": "code",
   "execution_count": null,
   "id": "5daf8f68",
   "metadata": {},
   "outputs": [],
   "source": [
    "p = pd.read_csv('D:\\\\p.csv')\n",
    "p.info()\n",
    "p['ent'] = None\n",
    "# p['tag_p'] = p['tag_p'].astype('object')\n",
    "p_dic = dict(zip(p['tag'], p['p']))\n",
    "tags = list(df['tags'])\n",
    "# print(type(tags[1][0]))\n",
    "ent_list = []\n",
    "for row in range(0, df.shape[0]):\n",
    "    print('用户：'+str(row+1))\n",
    "    p_list = []\n",
    "    for i in tags[row]:\n",
    "        for key in p_dic.keys():\n",
    "            if str(i)==str(key):\n",
    "                p_list.append(p_dic[key])\n",
    "                break\n",
    "    ent = 0.0\n",
    "    total = 0\n",
    "    print(p_list)\n",
    "    for p in p_list:\n",
    "        total += float(p)\n",
    "    if len(p_list)!=0:\n",
    "        avg = total/len(p_list)\n",
    "    else:\n",
    "        avg = 0.5  # 若用户的tag在p.csv中无法找到，则将其设为0.5\n",
    "    # print(total)\n",
    "    # ent_list.append(ent)\n",
    "    avg = [avg]\n",
    "    with open('D:\\\\avg_train.csv', 'a', newline='') as f:\n",
    "        writer = csv.writer(f)\n",
    "        writer.writerow(avg)\n",
    "    print('avg：'+str(avg))\n"
   ]
  },
  {
   "cell_type": "markdown",
   "id": "81d98295",
   "metadata": {},
   "source": [
    "## 数据分箱"
   ]
  },
  {
   "cell_type": "code",
   "execution_count": 27,
   "id": "b9ac2258",
   "metadata": {},
   "outputs": [
    {
     "name": "stdout",
     "output_type": "stream",
     "text": [
      "[INFO] creating woe binning ...\n",
      "{'price':   variable              bin  count  count_distr   good    bad   badprob  \\\n",
      "0    price    [-inf,1600.0)  89226     0.446130  42854  46372  0.519714   \n",
      "1    price  [1600.0,2200.0)  22268     0.111340  12381   9887  0.444000   \n",
      "2    price  [2200.0,2400.0)  12607     0.063035   6489   6118  0.485286   \n",
      "3    price  [2400.0,2800.0)  24238     0.121190  11044  13194  0.544352   \n",
      "4    price  [2800.0,3000.0)  18040     0.090200  10878   7162  0.397007   \n",
      "5    price  [3000.0,3600.0)  17326     0.086630   7980   9346  0.539421   \n",
      "6    price     [3600.0,inf)  16295     0.081475   8550   7745  0.475299   \n",
      "\n",
      "        woe    bin_iv  total_iv  breaks  is_special_values  \n",
      "0  0.082417  0.003029    0.0309  1600.0              False  \n",
      "1 -0.221422  0.005436    0.0309  2200.0              False  \n",
      "2 -0.055353  0.000193    0.0309  2400.0              False  \n",
      "3  0.181395  0.003977    0.0309  2800.0              False  \n",
      "4 -0.414433  0.015269    0.0309  3000.0              False  \n",
      "5  0.161530  0.002256    0.0309  3600.0              False  \n",
      "6 -0.095364  0.000740    0.0309     inf              False  }\n"
     ]
    },
    {
     "data": {
      "image/png": "[encoded data removed]",
      "text/plain": [
       "<Figure size 432x288 with 2 Axes>"
      ]
     },
     "metadata": {
      "needs_background": "light"
     },
     "output_type": "display_data"
    }
   ],
   "source": [
    "import scorecardpy as sc\n",
    "price = pd.read_csv(\"D:\\\\train模型.csv\", usecols=['price','label'])\n",
    "bins = sc.woebin(price, y=\"label\", method='tree')\n",
    "sc.woebin_plot(bins)\n",
    "print(bins)"
   ]
  },
  {
   "cell_type": "markdown",
   "id": "bb4bc5ed",
   "metadata": {},
   "source": [
    "## 缺失值填充"
   ]
  },
  {
   "cell_type": "code",
   "execution_count": null,
   "id": "60ae0028",
   "metadata": {},
   "outputs": [],
   "source": [
    "import pandas as pd\n",
    "\n",
    "# 使用RandomForestClassifier,填补缺失的年龄\n",
    "from sklearn.ensemble import RandomForestRegressor\n",
    "data_train = pd.read_csv(\"D:\\\\train模型.csv\", encoding='gbk')\n",
    "\n",
    "# 把已有的数据特征值取出，放入到Random Forest Regressor中\n",
    "age_df = data_train[['age', 'price', 'tag_p' , 'label']]\n",
    "\n",
    "# 把年龄做特征值转化，即根据上述放进来的特征值，把对应的转换为0、1两个数\n",
    "age_df=pd.get_dummies(age_df)\n",
    "\n",
    "# 分为已知年龄和未知年龄\n",
    "known_age = age_df[age_df.age.notnull()].values\n",
    "unknown_age = age_df[age_df.age.isnull()].values\n",
    "\n",
    "# 目标年龄值\n",
    "y = known_age[:, 0]\n",
    "# 特征属性值\n",
    "X = known_age[:, 1:]\n",
    "\n",
    "# RandomForestRegressor训练\n",
    "rfr = RandomForestRegressor(random_state=0, n_estimators=100, n_jobs=-1)\n",
    "rfr.fit(X, y)\n",
    "\n",
    "# 用得到的模型进行未知年龄结果预测\n",
    "predictedAges = rfr.predict(unknown_age[:, 1::])\n",
    "\n",
    "# 用得到的预测结果填补缺失数据\n",
    "data_train.loc[(data_train.age.isnull()), 'age'] = predictedAges\n",
    "data_train.to_csv('age_new.csv')\n",
    "print(data_train['age'])"
   ]
  },
  {
   "cell_type": "markdown",
   "id": "3caeda7c",
   "metadata": {},
   "source": [
    "## 独热编码"
   ]
  },
  {
   "cell_type": "code",
   "execution_count": 73,
   "id": "35bf3239",
   "metadata": {
    "scrolled": true
   },
   "outputs": [
    {
     "data": {
      "text/html": [
       "<div>\n",
       "<style scoped>\n",
       "    .dataframe tbody tr th:only-of-type {\n",
       "        vertical-align: middle;\n",
       "    }\n",
       "\n",
       "    .dataframe tbody tr th {\n",
       "        vertical-align: top;\n",
       "    }\n",
       "\n",
       "    .dataframe thead th {\n",
       "        text-align: right;\n",
       "    }\n",
       "</style>\n",
       "<table border=\"1\" class=\"dataframe\">\n",
       "  <thead>\n",
       "    <tr style=\"text-align: right;\">\n",
       "      <th></th>\n",
       "      <th>uid</th>\n",
       "      <th>label</th>\n",
       "      <th>gender</th>\n",
       "      <th>age</th>\n",
       "      <th>tags</th>\n",
       "      <th>time</th>\n",
       "      <th>province</th>\n",
       "      <th>city</th>\n",
       "      <th>phone</th>\n",
       "      <th>model</th>\n",
       "      <th>price</th>\n",
       "      <th>price_level</th>\n",
       "      <th>city_level</th>\n",
       "      <th>tag_p</th>\n",
       "      <th>age_new</th>\n",
       "      <th>city_level_1</th>\n",
       "      <th>city_level_2</th>\n",
       "      <th>city_level_3</th>\n",
       "      <th>city_level_4</th>\n",
       "      <th>city_level_5</th>\n",
       "    </tr>\n",
       "  </thead>\n",
       "  <tbody>\n",
       "    <tr>\n",
       "      <th>0</th>\n",
       "      <td>1190258</td>\n",
       "      <td>1</td>\n",
       "      <td>NaN</td>\n",
       "      <td>4.0</td>\n",
       "      <td>[10147894,12164649,5737867,12614444,10567578,1...</td>\n",
       "      <td>[1.559305645165E12,1.589771859076E12,1.5593056...</td>\n",
       "      <td>�㶫</td>\n",
       "      <td>��β</td>\n",
       "      <td>OPPO</td>\n",
       "      <td>k1</td>\n",
       "      <td>1599</td>\n",
       "      <td>2</td>\n",
       "      <td>4</td>\n",
       "      <td>0.610324</td>\n",
       "      <td>4.00</td>\n",
       "      <td>0</td>\n",
       "      <td>0</td>\n",
       "      <td>0</td>\n",
       "      <td>1</td>\n",
       "      <td>0</td>\n",
       "    </tr>\n",
       "    <tr>\n",
       "      <th>1</th>\n",
       "      <td>1119469</td>\n",
       "      <td>0</td>\n",
       "      <td>NaN</td>\n",
       "      <td>NaN</td>\n",
       "      <td>[12545416,13096510,12941454,10882324,13056107,...</td>\n",
       "      <td>[1.602720969208E12,1.602720969208E12,1.6027209...</td>\n",
       "      <td>����</td>\n",
       "      <td>��Դ</td>\n",
       "      <td>OPPO</td>\n",
       "      <td>r9s</td>\n",
       "      <td>2999</td>\n",
       "      <td>3</td>\n",
       "      <td>5</td>\n",
       "      <td>0.605882</td>\n",
       "      <td>3.81</td>\n",
       "      <td>0</td>\n",
       "      <td>0</td>\n",
       "      <td>0</td>\n",
       "      <td>0</td>\n",
       "      <td>1</td>\n",
       "    </tr>\n",
       "    <tr>\n",
       "      <th>2</th>\n",
       "      <td>1198468</td>\n",
       "      <td>1</td>\n",
       "      <td>NaN</td>\n",
       "      <td>4.0</td>\n",
       "      <td>[9952871,10977296,12546375,12514349,9446069,10...</td>\n",
       "      <td>[1.583400582853E12,1.599880343178E12,1.5592561...</td>\n",
       "      <td>�ӱ�</td>\n",
       "      <td>�ȷ�</td>\n",
       "      <td>OPPO</td>\n",
       "      <td>r9</td>\n",
       "      <td>2499</td>\n",
       "      <td>3</td>\n",
       "      <td>2</td>\n",
       "      <td>0.559452</td>\n",
       "      <td>4.00</td>\n",
       "      <td>0</td>\n",
       "      <td>1</td>\n",
       "      <td>0</td>\n",
       "      <td>0</td>\n",
       "      <td>0</td>\n",
       "    </tr>\n",
       "    <tr>\n",
       "      <th>3</th>\n",
       "      <td>1134962</td>\n",
       "      <td>0</td>\n",
       "      <td>NaN</td>\n",
       "      <td>2.0</td>\n",
       "      <td>[10308451,4457057,12164649,13669217,12874521,1...</td>\n",
       "      <td>[1.602050840433E12,1.559294082566E12,1.5743256...</td>\n",
       "      <td>����</td>\n",
       "      <td>����</td>\n",
       "      <td>OPPO</td>\n",
       "      <td>OPPO r11s</td>\n",
       "      <td>2999</td>\n",
       "      <td>3</td>\n",
       "      <td>3</td>\n",
       "      <td>0.434740</td>\n",
       "      <td>2.00</td>\n",
       "      <td>0</td>\n",
       "      <td>0</td>\n",
       "      <td>1</td>\n",
       "      <td>0</td>\n",
       "      <td>0</td>\n",
       "    </tr>\n",
       "    <tr>\n",
       "      <th>4</th>\n",
       "      <td>1202094</td>\n",
       "      <td>1</td>\n",
       "      <td>0.0</td>\n",
       "      <td>NaN</td>\n",
       "      <td>[4457927,9334567,11219658,13647044,9460596,109...</td>\n",
       "      <td>[1.562217310326E12,1.569115329888E12,1.5622173...</td>\n",
       "      <td>����</td>\n",
       "      <td>����</td>\n",
       "      <td>��Ϊ</td>\n",
       "      <td>��â5</td>\n",
       "      <td>2499</td>\n",
       "      <td>3</td>\n",
       "      <td>2</td>\n",
       "      <td>0.556182</td>\n",
       "      <td>3.73</td>\n",
       "      <td>0</td>\n",
       "      <td>1</td>\n",
       "      <td>0</td>\n",
       "      <td>0</td>\n",
       "      <td>0</td>\n",
       "    </tr>\n",
       "  </tbody>\n",
       "</table>\n",
       "</div>"
      ],
      "text/plain": [
       "       uid  label  gender  age  \\\n",
       "0  1190258      1     NaN  4.0   \n",
       "1  1119469      0     NaN  NaN   \n",
       "2  1198468      1     NaN  4.0   \n",
       "3  1134962      0     NaN  2.0   \n",
       "4  1202094      1     0.0  NaN   \n",
       "\n",
       "                                                tags  \\\n",
       "0  [10147894,12164649,5737867,12614444,10567578,1...   \n",
       "1  [12545416,13096510,12941454,10882324,13056107,...   \n",
       "2  [9952871,10977296,12546375,12514349,9446069,10...   \n",
       "3  [10308451,4457057,12164649,13669217,12874521,1...   \n",
       "4  [4457927,9334567,11219658,13647044,9460596,109...   \n",
       "\n",
       "                                                time province  city phone  \\\n",
       "0  [1.559305645165E12,1.589771859076E12,1.5593056...       �㶫   ��β  OPPO   \n",
       "1  [1.602720969208E12,1.602720969208E12,1.6027209...     ����   ��Դ  OPPO   \n",
       "2  [1.583400582853E12,1.599880343178E12,1.5592561...      �ӱ�   �ȷ�  OPPO   \n",
       "3  [1.602050840433E12,1.559294082566E12,1.5743256...     ����  ����  OPPO   \n",
       "4  [1.562217310326E12,1.569115329888E12,1.5622173...     ����  ����   ��Ϊ   \n",
       "\n",
       "       model  price  price_level  city_level     tag_p  age_new  city_level_1  \\\n",
       "0         k1   1599            2           4  0.610324     4.00             0   \n",
       "1        r9s   2999            3           5  0.605882     3.81             0   \n",
       "2         r9   2499            3           2  0.559452     4.00             0   \n",
       "3  OPPO r11s   2999            3           3  0.434740     2.00             0   \n",
       "4       ��â5   2499            3           2  0.556182     3.73             0   \n",
       "\n",
       "   city_level_2  city_level_3  city_level_4  city_level_5  \n",
       "0             0             0             1             0  \n",
       "1             0             0             0             1  \n",
       "2             1             0             0             0  \n",
       "3             0             1             0             0  \n",
       "4             1             0             0             0  "
      ]
     },
     "execution_count": 73,
     "metadata": {},
     "output_type": "execute_result"
    }
   ],
   "source": [
    "data_city = pd.read_csv(\"D:\\\\train答辩.csv\", usecols=['uid', 'city_level'],encoding='gbk')\n",
    "city_onehot = pd.get_dummies(data_city['city_level'], prefix='city_level')\n",
    "data_onehot = data_city.join(city_onehot)\n",
    "df = df.join(data_onehot.drop(['uid', 'city_level'],axis=1))\n",
    "df.head()"
   ]
  },
  {
   "cell_type": "markdown",
   "id": "9670f68e",
   "metadata": {},
   "source": [
    "## 训练前处理"
   ]
  },
  {
   "cell_type": "code",
   "execution_count": 33,
   "id": "08b950da",
   "metadata": {},
   "outputs": [],
   "source": [
    "from sklearn.model_selection import train_test_split"
   ]
  },
  {
   "cell_type": "code",
   "execution_count": 38,
   "id": "d5f4275f",
   "metadata": {},
   "outputs": [
    {
     "name": "stdout",
     "output_type": "stream",
     "text": [
      "<class 'pandas.core.frame.DataFrame'>\n",
      "RangeIndex: 200000 entries, 0 to 199999\n",
      "Data columns (total 15 columns):\n",
      " #   Column       Non-Null Count   Dtype  \n",
      "---  ------       --------------   -----  \n",
      " 0   uid          200000 non-null  int64  \n",
      " 1   label        200000 non-null  int64  \n",
      " 2   gender       38350 non-null   float64\n",
      " 3   age          174262 non-null  float64\n",
      " 4   tags         200000 non-null  object \n",
      " 5   time         200000 non-null  object \n",
      " 6   province     200000 non-null  object \n",
      " 7   city         200000 non-null  object \n",
      " 8   phone        200000 non-null  object \n",
      " 9   model        200000 non-null  object \n",
      " 10  price        200000 non-null  int64  \n",
      " 11  price_level  200000 non-null  int64  \n",
      " 12  city_level   200000 non-null  int64  \n",
      " 13  tag_p        200000 non-null  float64\n",
      " 14  age_new      200000 non-null  float64\n",
      "dtypes: float64(4), int64(5), object(6)\n",
      "memory usage: 22.9+ MB\n"
     ]
    }
   ],
   "source": [
    "df = pd.read_csv(\"D:\\\\train答辩.csv\")\n",
    "df.info()"
   ]
  },
  {
   "cell_type": "code",
   "execution_count": 70,
   "id": "6f33bd8f",
   "metadata": {},
   "outputs": [
    {
     "name": "stdout",
     "output_type": "stream",
     "text": [
      "      tag_p  price\n",
      "0  0.610324   1599\n",
      "1  0.605882   2999\n",
      "2  0.559452   2499\n",
      "3  0.434740   2999\n",
      "4  0.556182   2499\n",
      "数据集样本数：200000，训练集样本数：150000，测试集样本数：50000\n"
     ]
    }
   ],
   "source": [
    "x = df[['tag_p','price']]\n",
    "print(x.head())\n",
    "y = df['label']\n",
    "train_X, test_X, train_y, test_y = train_test_split(x, y, test_size=0.25)# 将原始数据集划分成训练集和测试集 8:2\n",
    "print('数据集样本数：{}，训练集样本数：{}，测试集样本数：{}'.format(len(x), len(train_X), len(test_X)))"
   ]
  },
  {
   "cell_type": "markdown",
   "id": "64c5f7f1",
   "metadata": {},
   "source": [
    "## 模型构建"
   ]
  },
  {
   "cell_type": "code",
   "execution_count": 42,
   "id": "a7d8735c",
   "metadata": {},
   "outputs": [],
   "source": [
    "from sklearn.linear_model import LogisticRegression\n",
    "from sklearn import tree\n",
    "from sklearn.ensemble import RandomForestClassifier\n",
    "from sklearn.metrics import accuracy_score\n",
    "from sklearn.model_selection import GridSearchCV \n"
   ]
  },
  {
   "cell_type": "code",
   "execution_count": 40,
   "id": "0e7f202a",
   "metadata": {},
   "outputs": [
    {
     "data": {
      "text/plain": [
       "0.72236"
      ]
     },
     "execution_count": 40,
     "metadata": {},
     "output_type": "execute_result"
    }
   ],
   "source": [
    "# 逻辑回归模型\n",
    "logreg = LogisticRegression()\n",
    "logreg.fit(train_X, train_y)\n",
    "train_score = logreg.score(test_X,test_y) \n",
    "train_score"
   ]
  },
  {
   "cell_type": "code",
   "execution_count": 43,
   "id": "0e8b9697",
   "metadata": {},
   "outputs": [
    {
     "name": "stdout",
     "output_type": "stream",
     "text": [
      "0.7287666666666668\n",
      "{'max_depth': 10}\n"
     ]
    }
   ],
   "source": [
    "# 决策树\n",
    "clf = GridSearchCV( \n",
    "    estimator=tree.DecisionTreeClassifier(criterion = 'entropy'),\n",
    "    param_grid={ \n",
    "        'max_depth': [6, 7, 8, 9, 10], \n",
    "        }, \n",
    "    cv=5) # 五折交叉验证\n",
    "clf.fit(train_X, train_y)  \n",
    "train_socre = clf.score(test_X,test_y)\n",
    "print(clf.best_score_) \n",
    "print(clf.best_params_)"
   ]
  },
  {
   "cell_type": "code",
   "execution_count": 44,
   "id": "fddd842b",
   "metadata": {},
   "outputs": [
    {
     "name": "stdout",
     "output_type": "stream",
     "text": [
      "0.7287666666666668\n",
      "{'max_depth': 10}\n"
     ]
    }
   ],
   "source": [
    "# 随机森林\n",
    "random_forest = GridSearchCV( \n",
    "    estimator=RandomForestClassifier(n_estimators=100, criterion = 'entropy',\n",
    "                                     min_samples_leaf=20, min_samples_split=300),\n",
    "    param_grid={ \n",
    "        'max_depth': [6, 7, 8, 9, 10, 11], \n",
    "        }, \n",
    "    cv=5) # 五折交叉验证\n",
    "random_forest.fit(train_X, train_y)  \n",
    "train_socre = random_forest.score(test_X,test_y)\n",
    "print(clf.best_score_) \n",
    "print(clf.best_params_)"
   ]
  },
  {
   "cell_type": "code",
   "execution_count": 45,
   "id": "c900d3cf",
   "metadata": {},
   "outputs": [],
   "source": [
    "import xgboost as xgb\n",
    "from sklearn.preprocessing import LabelEncoder\n",
    "from sklearn.metrics import accuracy_score\n",
    "from xgboost import XGBClassifier"
   ]
  },
  {
   "cell_type": "code",
   "execution_count": 71,
   "id": "02d3047e",
   "metadata": {},
   "outputs": [],
   "source": [
    "param = {\n",
    "        'booster': 'gbtree',\n",
    "        'objective': 'binary:logistic',\n",
    "        'eval_metric': 'auc',\n",
    "        'gamma': 0.01,\n",
    "        'max_depth': 7,\n",
    "        'alpha': 0,\n",
    "        'lambda': 0,\n",
    "        'subsample': 0.7,\n",
    "        'colsample_bytree': 0.5,\n",
    "        'min_child_weight': 3,\n",
    "        'eta': 0.03,\n",
    "        'nthread': -1,\n",
    "        'missing': 1,\n",
    "        'objective': 'multi:softmax',\n",
    "        'num_class': 2\n",
    "        }"
   ]
  },
  {
   "cell_type": "code",
   "execution_count": 72,
   "id": "88625d6b",
   "metadata": {},
   "outputs": [
    {
     "name": "stdout",
     "output_type": "stream",
     "text": [
      "0.73742\n"
     ]
    }
   ],
   "source": [
    "xgb = XGBClassifier(**param)\n",
    "xgb.fit(train_X, train_y)\n",
    "train_score = xgb.score(test_X,test_y) \n",
    "print(train_score)"
   ]
  },
  {
   "cell_type": "code",
   "execution_count": null,
   "id": "318b1895",
   "metadata": {},
   "outputs": [],
   "source": [
    "test_df = pd.read_csv(\"D:\\\\test.csv\")\n",
    "# x1 = test_df.drop(['uid','label','gender','age','tags','time','province','city','phone','model','city_level','price label','information_entropy_avg','new_ent','price','phone_onehot'],axis=1)\n",
    "x1 = test_df[['tag_p','price']]\n",
    "y_pred = rf.predict(x1)\n",
    "y_pred.to_csv('predict.csv')"
   ]
  }
 ],
 "metadata": {
  "kernelspec": {
   "display_name": "Python 3",
   "language": "python",
   "name": "python3"
  },
  "language_info": {
   "codemirror_mode": {
    "name": "ipython",
    "version": 3
   },
   "file_extension": ".py",
   "mimetype": "text/x-python",
   "name": "python",
   "nbconvert_exporter": "python",
   "pygments_lexer": "ipython3",
   "version": "3.8.8"
  }
 },
 "nbformat": 4,
 "nbformat_minor": 5
}
